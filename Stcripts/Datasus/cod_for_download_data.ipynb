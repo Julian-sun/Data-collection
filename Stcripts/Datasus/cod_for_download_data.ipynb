{
 "cells": [
  {
   "cell_type": "code",
   "execution_count": 1,
   "metadata": {},
   "outputs": [],
   "source": [
    "import requests\n",
    "import urllib.request\n",
    "import time\n",
    "from bs4 import BeautifulSoup\n",
    "import pandas as pd"
   ]
  },
  {
   "cell_type": "code",
   "execution_count": 2,
   "metadata": {},
   "outputs": [],
   "source": [
    "# Download on linux"
   ]
  },
  {
   "cell_type": "code",
   "execution_count": 29,
   "metadata": {
    "scrolled": false
   },
   "outputs": [
    {
     "name": "stdout",
     "output_type": "stream",
     "text": [
      "Beginning file download with urllib2...\n"
     ]
    },
    {
     "data": {
      "text/plain": [
       "('/home/juliane_oliveira/Downloads/file_teste.dbc',\n",
       " <email.message.Message at 0x7f4010070cf8>)"
      ]
     },
     "execution_count": 29,
     "metadata": {},
     "output_type": "execute_result"
    }
   ],
   "source": [
    "import urllib.request\n",
    "\n",
    "print('Beginning file download with urllib2...')\n",
    "\n",
    "url = 'ftp://ftp.datasus.gov.br/dissemin/publicos/SINAN/DADOS/FINAIS/ANIMAC07.dbc'\n",
    "urllib.request.urlretrieve(url, '/home/juliane_oliveira/Downloads/file_teste.dbc')"
   ]
  },
  {
   "cell_type": "code",
   "execution_count": null,
   "metadata": {},
   "outputs": [],
   "source": [
    "# Download on windows"
   ]
  },
  {
   "cell_type": "code",
   "execution_count": 9,
   "metadata": {},
   "outputs": [
    {
     "name": "stdout",
     "output_type": "stream",
     "text": [
      "Beginning file download with urllib2...\n"
     ]
    },
    {
     "data": {
      "text/plain": [
       "('G:file_teste.dbc', <email.message.Message at 0x21e542816a0>)"
      ]
     },
     "execution_count": 9,
     "metadata": {},
     "output_type": "execute_result"
    }
   ],
   "source": [
    "import urllib.request\n",
    "\n",
    "print('Beginning file download with urllib2...')\n",
    "\n",
    "url = 'ftp://ftp.datasus.gov.br/dissemin/publicos/SINAN/DADOS/FINAIS/ANIMAC07.dbc'\n",
    "urllib.request.urlretrieve(url,'G:file_teste.dbc')"
   ]
  },
  {
   "cell_type": "markdown",
   "metadata": {},
   "source": [
    "# Create a list of url to get SINAN dataset"
   ]
  },
  {
   "cell_type": "markdown",
   "metadata": {},
   "source": [
    " <script>addRow(\"ANIMAC07.dbc\",\"ANIMAC07.dbc\",0,22196,\"21.7 kB\",1557504060,\"5/10/19, 1:01:00 PM\");</script>"
   ]
  },
  {
   "cell_type": "code",
   "execution_count": 26,
   "metadata": {},
   "outputs": [],
   "source": [
    "data = pd.read_csv('key_url_download_data.csv')"
   ]
  },
  {
   "cell_type": "code",
   "execution_count": 27,
   "metadata": {},
   "outputs": [
    {
     "data": {
      "text/html": [
       "<div>\n",
       "<style scoped>\n",
       "    .dataframe tbody tr th:only-of-type {\n",
       "        vertical-align: middle;\n",
       "    }\n",
       "\n",
       "    .dataframe tbody tr th {\n",
       "        vertical-align: top;\n",
       "    }\n",
       "\n",
       "    .dataframe thead th {\n",
       "        text-align: right;\n",
       "    }\n",
       "</style>\n",
       "<table border=\"1\" class=\"dataframe\">\n",
       "  <thead>\n",
       "    <tr style=\"text-align: right;\">\n",
       "      <th></th>\n",
       "      <th>dataset_name</th>\n",
       "      <th>subset</th>\n",
       "      <th>year</th>\n",
       "      <th>file_name</th>\n",
       "      <th>size</th>\n",
       "      <th>date_modified</th>\n",
       "      <th>url</th>\n",
       "    </tr>\n",
       "  </thead>\n",
       "  <tbody>\n",
       "    <tr>\n",
       "      <th>0</th>\n",
       "      <td>SINAN_PRELIM</td>\n",
       "      <td>acidente_animais_peconhentos</td>\n",
       "      <td>2015</td>\n",
       "      <td>ANIMAC15.dbc</td>\n",
       "      <td>59.3kB</td>\n",
       "      <td>5/10/19,1:08:00PM</td>\n",
       "      <td>ftp://ftp.datasus.gov.br/dissemin/publicos/SIN...</td>\n",
       "    </tr>\n",
       "    <tr>\n",
       "      <th>1</th>\n",
       "      <td>SINAN_PRELIM</td>\n",
       "      <td>acidente_animais_peconhentos</td>\n",
       "      <td>2016</td>\n",
       "      <td>ANIMAC16.dbc</td>\n",
       "      <td>51.3kB</td>\n",
       "      <td>5/10/19,1:08:00PM</td>\n",
       "      <td>ftp://ftp.datasus.gov.br/dissemin/publicos/SIN...</td>\n",
       "    </tr>\n",
       "    <tr>\n",
       "      <th>2</th>\n",
       "      <td>SINAN_PRELIM</td>\n",
       "      <td>acidente_animais_peconhentos</td>\n",
       "      <td>2017</td>\n",
       "      <td>ANIMAC17.dbc</td>\n",
       "      <td>53.3kB</td>\n",
       "      <td>5/10/19,1:08:00PM</td>\n",
       "      <td>ftp://ftp.datasus.gov.br/dissemin/publicos/SIN...</td>\n",
       "    </tr>\n",
       "    <tr>\n",
       "      <th>3</th>\n",
       "      <td>SINAN_PRELIM</td>\n",
       "      <td>acidente_animais_peconhentos</td>\n",
       "      <td>2015</td>\n",
       "      <td>ANIMAL15.dbc</td>\n",
       "      <td>298kB</td>\n",
       "      <td>5/10/19,1:08:00PM</td>\n",
       "      <td>ftp://ftp.datasus.gov.br/dissemin/publicos/SIN...</td>\n",
       "    </tr>\n",
       "    <tr>\n",
       "      <th>4</th>\n",
       "      <td>SINAN_PRELIM</td>\n",
       "      <td>acidente_animais_peconhentos</td>\n",
       "      <td>2016</td>\n",
       "      <td>ANIMAL16.dbc</td>\n",
       "      <td>322kB</td>\n",
       "      <td>5/10/19,1:08:00PM</td>\n",
       "      <td>ftp://ftp.datasus.gov.br/dissemin/publicos/SIN...</td>\n",
       "    </tr>\n",
       "  </tbody>\n",
       "</table>\n",
       "</div>"
      ],
      "text/plain": [
       "   dataset_name                        subset  year     file_name    size  \\\n",
       "0  SINAN_PRELIM  acidente_animais_peconhentos  2015  ANIMAC15.dbc  59.3kB   \n",
       "1  SINAN_PRELIM  acidente_animais_peconhentos  2016  ANIMAC16.dbc  51.3kB   \n",
       "2  SINAN_PRELIM  acidente_animais_peconhentos  2017  ANIMAC17.dbc  53.3kB   \n",
       "3  SINAN_PRELIM  acidente_animais_peconhentos  2015  ANIMAL15.dbc   298kB   \n",
       "4  SINAN_PRELIM  acidente_animais_peconhentos  2016  ANIMAL16.dbc   322kB   \n",
       "\n",
       "       date_modified                                                url  \n",
       "0  5/10/19,1:08:00PM  ftp://ftp.datasus.gov.br/dissemin/publicos/SIN...  \n",
       "1  5/10/19,1:08:00PM  ftp://ftp.datasus.gov.br/dissemin/publicos/SIN...  \n",
       "2  5/10/19,1:08:00PM  ftp://ftp.datasus.gov.br/dissemin/publicos/SIN...  \n",
       "3  5/10/19,1:08:00PM  ftp://ftp.datasus.gov.br/dissemin/publicos/SIN...  \n",
       "4  5/10/19,1:08:00PM  ftp://ftp.datasus.gov.br/dissemin/publicos/SIN...  "
      ]
     },
     "execution_count": 27,
     "metadata": {},
     "output_type": "execute_result"
    }
   ],
   "source": [
    "data.head()"
   ]
  },
  {
   "cell_type": "markdown",
   "metadata": {},
   "source": [
    "# Download data of Leprosy"
   ]
  },
  {
   "cell_type": "code",
   "execution_count": 28,
   "metadata": {
    "scrolled": true
   },
   "outputs": [
    {
     "data": {
      "text/plain": [
       "array(['acidente_animais_peconhentos', 'botulismo', 'doenca_chagas_aguda',\n",
       "       'doenca_chagas_aguda_br', 'coqueluche', 'dengue', 'difteria',\n",
       "       'esquistossomose', 'febre_maculosa', 'hantavirose', 'into_exogena',\n",
       "       'leptospirose', 'malaria', 'meningite', 'meningite_br',\n",
       "       'meningite_RJ_DBF', 'peste', 'paralisia_flacida_aguda',\n",
       "       'tetano_acide', 'tetano_neonatal', 'tuberculose', 'colera',\n",
       "       'febre_amarela', 'febre_tifoide', 'hanseniase',\n",
       "       'leishmaniose_visceral', 'leishmaniose_americana', 'raiva',\n",
       "       'violencia'], dtype=object)"
      ]
     },
     "execution_count": 28,
     "metadata": {},
     "output_type": "execute_result"
    }
   ],
   "source": [
    "data.subset.unique()"
   ]
  },
  {
   "cell_type": "code",
   "execution_count": 29,
   "metadata": {
    "scrolled": true
   },
   "outputs": [
    {
     "data": {
      "text/html": [
       "<div>\n",
       "<style scoped>\n",
       "    .dataframe tbody tr th:only-of-type {\n",
       "        vertical-align: middle;\n",
       "    }\n",
       "\n",
       "    .dataframe tbody tr th {\n",
       "        vertical-align: top;\n",
       "    }\n",
       "\n",
       "    .dataframe thead th {\n",
       "        text-align: right;\n",
       "    }\n",
       "</style>\n",
       "<table border=\"1\" class=\"dataframe\">\n",
       "  <thead>\n",
       "    <tr style=\"text-align: right;\">\n",
       "      <th></th>\n",
       "      <th>dataset_name</th>\n",
       "      <th>subset</th>\n",
       "      <th>year</th>\n",
       "      <th>file_name</th>\n",
       "      <th>size</th>\n",
       "      <th>date_modified</th>\n",
       "      <th>url</th>\n",
       "    </tr>\n",
       "  </thead>\n",
       "  <tbody>\n",
       "    <tr>\n",
       "      <th>3411</th>\n",
       "      <td>SINAN_FINAIS</td>\n",
       "      <td>hanseniase</td>\n",
       "      <td>2014</td>\n",
       "      <td>HANSAC14.dbc</td>\n",
       "      <td>8.7kB</td>\n",
       "      <td>6/25/19,7:51:00AM</td>\n",
       "      <td>ftp://ftp.datasus.gov.br/dissemin/publicos/SIN...</td>\n",
       "    </tr>\n",
       "    <tr>\n",
       "      <th>3412</th>\n",
       "      <td>SINAN_FINAIS</td>\n",
       "      <td>hanseniase</td>\n",
       "      <td>2015</td>\n",
       "      <td>HANSAC15.dbc</td>\n",
       "      <td>8.0kB</td>\n",
       "      <td>6/25/19,7:51:00AM</td>\n",
       "      <td>ftp://ftp.datasus.gov.br/dissemin/publicos/SIN...</td>\n",
       "    </tr>\n",
       "    <tr>\n",
       "      <th>3413</th>\n",
       "      <td>SINAN_FINAIS</td>\n",
       "      <td>hanseniase</td>\n",
       "      <td>2016</td>\n",
       "      <td>HANSAC16.dbc</td>\n",
       "      <td>7.5kB</td>\n",
       "      <td>6/25/19,7:51:00AM</td>\n",
       "      <td>ftp://ftp.datasus.gov.br/dissemin/publicos/SIN...</td>\n",
       "    </tr>\n",
       "    <tr>\n",
       "      <th>3414</th>\n",
       "      <td>SINAN_FINAIS</td>\n",
       "      <td>hanseniase</td>\n",
       "      <td>2017</td>\n",
       "      <td>HANSAC17.dbc</td>\n",
       "      <td>8.9kB</td>\n",
       "      <td>6/25/19,7:51:00AM</td>\n",
       "      <td>ftp://ftp.datasus.gov.br/dissemin/publicos/SIN...</td>\n",
       "    </tr>\n",
       "    <tr>\n",
       "      <th>3415</th>\n",
       "      <td>SINAN_FINAIS</td>\n",
       "      <td>hanseniase</td>\n",
       "      <td>2018</td>\n",
       "      <td>HANSAC18.dbc</td>\n",
       "      <td>8.6kB</td>\n",
       "      <td>6/25/19,7:51:00AM</td>\n",
       "      <td>ftp://ftp.datasus.gov.br/dissemin/publicos/SIN...</td>\n",
       "    </tr>\n",
       "  </tbody>\n",
       "</table>\n",
       "</div>"
      ],
      "text/plain": [
       "      dataset_name      subset  year     file_name   size      date_modified  \\\n",
       "3411  SINAN_FINAIS  hanseniase  2014  HANSAC14.dbc  8.7kB  6/25/19,7:51:00AM   \n",
       "3412  SINAN_FINAIS  hanseniase  2015  HANSAC15.dbc  8.0kB  6/25/19,7:51:00AM   \n",
       "3413  SINAN_FINAIS  hanseniase  2016  HANSAC16.dbc  7.5kB  6/25/19,7:51:00AM   \n",
       "3414  SINAN_FINAIS  hanseniase  2017  HANSAC17.dbc  8.9kB  6/25/19,7:51:00AM   \n",
       "3415  SINAN_FINAIS  hanseniase  2018  HANSAC18.dbc  8.6kB  6/25/19,7:51:00AM   \n",
       "\n",
       "                                                    url  \n",
       "3411  ftp://ftp.datasus.gov.br/dissemin/publicos/SIN...  \n",
       "3412  ftp://ftp.datasus.gov.br/dissemin/publicos/SIN...  \n",
       "3413  ftp://ftp.datasus.gov.br/dissemin/publicos/SIN...  \n",
       "3414  ftp://ftp.datasus.gov.br/dissemin/publicos/SIN...  \n",
       "3415  ftp://ftp.datasus.gov.br/dissemin/publicos/SIN...  "
      ]
     },
     "execution_count": 29,
     "metadata": {},
     "output_type": "execute_result"
    }
   ],
   "source": [
    "leprosy = data[data.subset == 'hanseniase']\n",
    "leprosy.head()"
   ]
  },
  {
   "cell_type": "code",
   "execution_count": 30,
   "metadata": {},
   "outputs": [
    {
     "data": {
      "text/plain": [
       "array([2014, 2015, 2016, 2017, 2018])"
      ]
     },
     "execution_count": 30,
     "metadata": {},
     "output_type": "execute_result"
    }
   ],
   "source": [
    "leprosy.year.unique()"
   ]
  },
  {
   "cell_type": "code",
   "execution_count": 31,
   "metadata": {},
   "outputs": [
    {
     "data": {
      "text/plain": [
       "array(['SINAN_FINAIS'], dtype=object)"
      ]
     },
     "execution_count": 31,
     "metadata": {},
     "output_type": "execute_result"
    }
   ],
   "source": [
    "leprosy.dataset_name.unique()"
   ]
  },
  {
   "cell_type": "code",
   "execution_count": 36,
   "metadata": {
    "scrolled": true
   },
   "outputs": [
    {
     "data": {
      "text/plain": [
       "'ftp://ftp.datasus.gov.br/dissemin/publicos/SINAN/DADOS/FINAIS/HANSAC14.dbc'"
      ]
     },
     "execution_count": 36,
     "metadata": {},
     "output_type": "execute_result"
    }
   ],
   "source": [
    "leprosy.url[3411] + leprosy.file_name[3411]"
   ]
  },
  {
   "cell_type": "code",
   "execution_count": 35,
   "metadata": {},
   "outputs": [
    {
     "name": "stdout",
     "output_type": "stream",
     "text": [
      "Beginning file download with urllib2...\n"
     ]
    }
   ],
   "source": [
    "import urllib.request\n",
    "\n",
    "print('Beginning file download with urllib2...')\n",
    "\n",
    "for (file, link) in zip(leprosy.file_name,leprosy.url):\n",
    "    url = link + file\n",
    "    urllib.request.urlretrieve(url, '/media/juliane_oliveira/My Passport/Datasus/Data_lake/Raw/Bancos_SINAN/HANSENIASE/' + file)"
   ]
  }
 ],
 "metadata": {
  "kernelspec": {
   "display_name": "Python 3",
   "language": "python",
   "name": "python3"
  },
  "language_info": {
   "codemirror_mode": {
    "name": "ipython",
    "version": 3
   },
   "file_extension": ".py",
   "mimetype": "text/x-python",
   "name": "python",
   "nbconvert_exporter": "python",
   "pygments_lexer": "ipython3",
   "version": "3.6.5"
  }
 },
 "nbformat": 4,
 "nbformat_minor": 2
}
